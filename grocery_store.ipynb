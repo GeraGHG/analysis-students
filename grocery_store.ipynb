{
 "cells": [
  {
   "cell_type": "markdown",
   "metadata": {},
   "source": [
    "A grocery store sells a bag of ice for $1.25 and makes a 20% profit. If it sells 500 bags of ice, how much total profit does it make?"
   ]
  },
  {
   "cell_type": "code",
   "execution_count": 1,
   "metadata": {},
   "outputs": [],
   "source": [
    "cost_ice_bag = 1.25\n",
    "profit_margin = 0.2\n",
    "bags_sell = 500"
   ]
  },
  {
   "cell_type": "code",
   "execution_count": 2,
   "metadata": {},
   "outputs": [],
   "source": [
    "# Perform the required calculations\n",
    "total_profit = bags_sell * (cost_ice_bag * profit_margin)"
   ]
  },
  {
   "cell_type": "code",
   "execution_count": 3,
   "metadata": {},
   "outputs": [
    {
     "name": "stdout",
     "output_type": "stream",
     "text": [
      "The gorcery store makes a total profit of $125.0\n"
     ]
    }
   ],
   "source": [
    "# Display the result\n",
    "print(f\"The gorcery store makes a total profit of ${total_profit}\")"
   ]
  },
  {
   "cell_type": "markdown",
   "metadata": {},
   "source": [
    "EXERCISE: A travel company wants to fly a plane to the Bahamas. Flying the plane costs 5000 dollars. So far, 29 people have signed up for the trip. If the company charges 200 dollars per ticket, what is the profit made by the company? Create variables for each numeric quantity and use appropriate arithmetic operations."
   ]
  },
  {
   "cell_type": "code",
   "execution_count": 4,
   "metadata": {},
   "outputs": [
    {
     "name": "stdout",
     "output_type": "stream",
     "text": [
      "The total profit made by the company of $800\n"
     ]
    }
   ],
   "source": [
    "# Plane intput data in variables\n",
    "plane_costs = 5000\n",
    "people_sign_up = 29\n",
    "cost_per_ticket = 200\n",
    "\n",
    "# Perform the required calculations\n",
    "total_cost_people = people_sign_up * cost_per_ticket\n",
    "profit_made = total_cost_people - plane_costs\n",
    "\n",
    "# Display the result\n",
    "print(f\"The total profit made by the company of ${profit_made}\")\n"
   ]
  },
  {
   "cell_type": "markdown",
   "metadata": {},
   "source": [
    "1. The population of a town is 198568. Out of them 45312 are men and 35678 are women. Find the number of children in the town."
   ]
  },
  {
   "cell_type": "code",
   "execution_count": 5,
   "metadata": {},
   "outputs": [
    {
     "name": "stdout",
     "output_type": "stream",
     "text": [
      "The population are 117578 children\n"
     ]
    }
   ],
   "source": [
    "# Population input data in variables\n",
    "total_population = 198568\n",
    "men = 45312\n",
    "women = 35678\n",
    "\n",
    "# Perform the required calculations\n",
    "children = total_population - (men + women)\n",
    "\n",
    "# Display the result\n",
    "print(f\"The population are {children} children\")"
   ]
  },
  {
   "cell_type": "markdown",
   "metadata": {},
   "source": [
    "Linda bought a coat for $2265 and a saree for $2150. She gave $5000 to the shopkeeper. How much money did the shopkeeper return to her?"
   ]
  },
  {
   "cell_type": "code",
   "execution_count": 6,
   "metadata": {},
   "outputs": [
    {
     "name": "stdout",
     "output_type": "stream",
     "text": [
      "The shopkeeper return to her $585\n"
     ]
    }
   ],
   "source": [
    "# Money input data in variables\n",
    "price_coat = 2265\n",
    "price_saree = 2150\n",
    "dollar_to_pay = 5000\n",
    "\n",
    "# Perform the required calculations\n",
    "money_return = dollar_to_pay - (price_coat + price_saree)\n",
    "\n",
    "# Display the result\n",
    "print(f\"The shopkeeper return to her ${money_return}\")\n"
   ]
  },
  {
   "cell_type": "markdown",
   "metadata": {},
   "source": [
    "The cost of 21 TV sets is $95844. Find the cost of one TV set."
   ]
  },
  {
   "cell_type": "code",
   "execution_count": 7,
   "metadata": {},
   "outputs": [
    {
     "name": "stdout",
     "output_type": "stream",
     "text": [
      "Cost one TV $4564.0\n"
     ]
    }
   ],
   "source": [
    "# Input date in variables\n",
    "total_cost_TVs = 95844\n",
    "num_TVs = 21\n",
    "\n",
    "# Perform the required calculations\n",
    "cost_one_TV = total_cost_TVs / num_TVs\n",
    "\n",
    "print(f\"Cost one TV ${cost_one_TV}\")"
   ]
  },
  {
   "cell_type": "markdown",
   "metadata": {},
   "source": [
    "Radha está planeando comprar una casa que cuesta $1,260,000. Está considerando dos opciones para financiar su compra:\n",
    "Opción 1: Hacer un pago inicial inmediato de $300,000 y tomar un préstamo a 8 años con una tasa de interés del 10% (compuesto mensualmente) por el monto restante.\n",
    "Opción 2: Tomar un préstamo a 10 años con una tasa de interés del 8% (compuesto mensualmente) por la cantidad total.\n"
   ]
  },
  {
   "cell_type": "code",
   "execution_count": 9,
   "metadata": {},
   "outputs": [
    {
     "name": "stdout",
     "output_type": "stream",
     "text": [
      "Total payment for Option 2: $12,096,000.00\n"
     ]
    }
   ],
   "source": [
    "# I = C * i * t\n",
    "cost_house = 1_260_000\n",
    "option = int(input(\"Choose your option (1 or 2): \"))\n",
    "\n",
    "if option == 1:\n",
    "    mount_less = cost_house - 300_000\n",
    "    total_payment = mount_less * 0.10 * (8 * 12) + 300_000\n",
    "    print(f\"Total payment for Option 1: ${total_payment:,.2f}\")\n",
    "elif option == 2:\n",
    "    total_payment = cost_house * 0.08 * (10 * 12)\n",
    "    print(f\"Total payment for Option 2: ${total_payment:,.2f}\")\n",
    "else:\n",
    "    print(\"Invalid option. Please choose 1 or 2.\")\n",
    "\n",
    "# Total payment for Option 1: $9,516,000.00, \n",
    "# Total payment for Option 2: $12,096,000.00"
   ]
  },
  {
   "cell_type": "code",
   "execution_count": null,
   "metadata": {},
   "outputs": [],
   "source": []
  }
 ],
 "metadata": {
  "kernelspec": {
   "display_name": "students",
   "language": "python",
   "name": "python3"
  },
  "language_info": {
   "codemirror_mode": {
    "name": "ipython",
    "version": 3
   },
   "file_extension": ".py",
   "mimetype": "text/x-python",
   "name": "python",
   "nbconvert_exporter": "python",
   "pygments_lexer": "ipython3",
   "version": "3.11.5"
  }
 },
 "nbformat": 4,
 "nbformat_minor": 2
}
