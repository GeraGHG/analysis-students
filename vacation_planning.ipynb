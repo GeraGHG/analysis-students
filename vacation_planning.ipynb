{
 "cells": [
  {
   "cell_type": "code",
   "execution_count": 4,
   "metadata": {},
   "outputs": [],
   "source": [
    "def least_mount_week(per_day: int, rental_car_weekly: int, flight):\n",
    "    return (7 * per_day) + rental_car_weekly + (flight * 2)\n",
    "\n",
    "\n",
    "def duration(days: int, per_day: int, rental_car_weekly: int, flight: int):\n",
    "    num_weeks = days // 7\n",
    "    if days >= 7:\n",
    "        return (days * per_day) + (num_weeks * rental_car_weekly) + (flight * 2)\n",
    "    else:\n",
    "        return days * per_day + rental_car_weekly + (flight * 2)"
   ]
  },
  {
   "cell_type": "code",
   "execution_count": 5,
   "metadata": {},
   "outputs": [
    {
     "name": "stdout",
     "output_type": "stream",
     "text": [
      "Paris a 1-week long trip cost $740\n",
      "London a 1-week long trip cost $830\n",
      "Dubai a 1-week long trip cost $925\n",
      "Mumbai a 1-week long trip cost $1040\n"
     ]
    }
   ],
   "source": [
    "cities = [\"Paris\", \"London\", \"Dubai\",\"Mumbai\"]\n",
    "hotel_per_day = [20, 30, 15, 10]\n",
    "rental_car_weekly = [200, 120, 80, 70]\n",
    "flight = [200, 250, 370, 450]\n",
    "for i in range(len(cities)):\n",
    "    print(f\"{cities[i]} a 1-week long trip cost ${least_mount_week(hotel_per_day[i], rental_car_weekly[i], flight[i])}\")\n",
    "\n",
    "num_days = int(input(\"How many days do you want to take for your vacations: \"))\n",
    "for i in range(len(cities)):\n",
    "    print(f\"{cities[i]} for {num_days} days your trip cost ${duration(hotel_per_day[i], rental_car_weekly[i], flight[i])}\")\n"
   ]
  }
 ],
 "metadata": {
  "kernelspec": {
   "display_name": "students",
   "language": "python",
   "name": "python3"
  },
  "language_info": {
   "codemirror_mode": {
    "name": "ipython",
    "version": 3
   },
   "file_extension": ".py",
   "mimetype": "text/x-python",
   "name": "python",
   "nbconvert_exporter": "python",
   "pygments_lexer": "ipython3",
   "version": "3.11.5"
  }
 },
 "nbformat": 4,
 "nbformat_minor": 2
}
